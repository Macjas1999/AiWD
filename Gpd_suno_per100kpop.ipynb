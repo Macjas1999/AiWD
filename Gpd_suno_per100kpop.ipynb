{
 "cells": [
  {
   "cell_type": "code",
   "execution_count": 3,
   "metadata": {},
   "outputs": [],
   "source": [
    "import numpy as np\n",
    "import matplotlib.pyplot as plt\n",
    "import pandas as pd\n",
    "import scipy.stats as st"
   ]
  },
  {
   "cell_type": "code",
   "execution_count": 4,
   "metadata": {},
   "outputs": [],
   "source": [
    "data = pd.read_csv('masterCSVfmfull.csv')"
   ]
  },
  {
   "cell_type": "code",
   "execution_count": 23,
   "metadata": {},
   "outputs": [],
   "source": [
    "agg_gpd_suno = data.groupby('gdp_per_capita ($)')['suicides/100k pop'].agg(['sum', 'mean', 'count'])\n",
    "agg_gpd_suno = agg_gpd_suno.reset_index()"
   ]
  },
  {
   "cell_type": "code",
   "execution_count": 24,
   "metadata": {},
   "outputs": [],
   "source": [
    "#ftl1= (agg_pop['year'] != 2016)\n",
    "#agg_pop = agg_pop.loc[ftl1, ['gdp_per_capita ($)', 'sum', 'mean','count']]"
   ]
  },
  {
   "cell_type": "code",
   "execution_count": 7,
   "metadata": {},
   "outputs": [
    {
     "data": {
      "text/html": [
       "<div>\n",
       "<style scoped>\n",
       "    .dataframe tbody tr th:only-of-type {\n",
       "        vertical-align: middle;\n",
       "    }\n",
       "\n",
       "    .dataframe tbody tr th {\n",
       "        vertical-align: top;\n",
       "    }\n",
       "\n",
       "    .dataframe thead th {\n",
       "        text-align: right;\n",
       "    }\n",
       "</style>\n",
       "<table border=\"1\" class=\"dataframe\">\n",
       "  <thead>\n",
       "    <tr style=\"text-align: right;\">\n",
       "      <th></th>\n",
       "      <th>gdp_per_capita ($)</th>\n",
       "      <th>sum</th>\n",
       "      <th>mean</th>\n",
       "      <th>count</th>\n",
       "    </tr>\n",
       "  </thead>\n",
       "  <tbody>\n",
       "    <tr>\n",
       "      <th>0</th>\n",
       "      <td>251.0</td>\n",
       "      <td>18.00</td>\n",
       "      <td>1.500000</td>\n",
       "      <td>12</td>\n",
       "    </tr>\n",
       "    <tr>\n",
       "      <th>1</th>\n",
       "      <td>291.0</td>\n",
       "      <td>191.44</td>\n",
       "      <td>15.953333</td>\n",
       "      <td>12</td>\n",
       "    </tr>\n",
       "    <tr>\n",
       "      <th>2</th>\n",
       "      <td>313.0</td>\n",
       "      <td>182.63</td>\n",
       "      <td>15.219167</td>\n",
       "      <td>12</td>\n",
       "    </tr>\n",
       "    <tr>\n",
       "      <th>3</th>\n",
       "      <td>345.0</td>\n",
       "      <td>193.30</td>\n",
       "      <td>16.108333</td>\n",
       "      <td>12</td>\n",
       "    </tr>\n",
       "    <tr>\n",
       "      <th>4</th>\n",
       "      <td>357.0</td>\n",
       "      <td>51.05</td>\n",
       "      <td>4.254167</td>\n",
       "      <td>12</td>\n",
       "    </tr>\n",
       "    <tr>\n",
       "      <th>5</th>\n",
       "      <td>359.0</td>\n",
       "      <td>173.11</td>\n",
       "      <td>14.425833</td>\n",
       "      <td>12</td>\n",
       "    </tr>\n",
       "    <tr>\n",
       "      <th>6</th>\n",
       "      <td>385.0</td>\n",
       "      <td>40.86</td>\n",
       "      <td>3.405000</td>\n",
       "      <td>12</td>\n",
       "    </tr>\n",
       "    <tr>\n",
       "      <th>7</th>\n",
       "      <td>387.0</td>\n",
       "      <td>66.73</td>\n",
       "      <td>5.560833</td>\n",
       "      <td>12</td>\n",
       "    </tr>\n",
       "    <tr>\n",
       "      <th>8</th>\n",
       "      <td>398.0</td>\n",
       "      <td>184.94</td>\n",
       "      <td>15.411667</td>\n",
       "      <td>12</td>\n",
       "    </tr>\n",
       "    <tr>\n",
       "      <th>9</th>\n",
       "      <td>424.0</td>\n",
       "      <td>137.86</td>\n",
       "      <td>11.488333</td>\n",
       "      <td>12</td>\n",
       "    </tr>\n",
       "    <tr>\n",
       "      <th>10</th>\n",
       "      <td>425.0</td>\n",
       "      <td>239.77</td>\n",
       "      <td>19.980833</td>\n",
       "      <td>12</td>\n",
       "    </tr>\n",
       "    <tr>\n",
       "      <th>11</th>\n",
       "      <td>426.0</td>\n",
       "      <td>51.79</td>\n",
       "      <td>4.315833</td>\n",
       "      <td>12</td>\n",
       "    </tr>\n",
       "    <tr>\n",
       "      <th>12</th>\n",
       "      <td>428.0</td>\n",
       "      <td>95.28</td>\n",
       "      <td>7.940000</td>\n",
       "      <td>12</td>\n",
       "    </tr>\n",
       "    <tr>\n",
       "      <th>13</th>\n",
       "      <td>431.0</td>\n",
       "      <td>558.72</td>\n",
       "      <td>46.560000</td>\n",
       "      <td>12</td>\n",
       "    </tr>\n",
       "    <tr>\n",
       "      <th>14</th>\n",
       "      <td>435.0</td>\n",
       "      <td>190.85</td>\n",
       "      <td>15.904167</td>\n",
       "      <td>12</td>\n",
       "    </tr>\n",
       "    <tr>\n",
       "      <th>15</th>\n",
       "      <td>437.0</td>\n",
       "      <td>286.87</td>\n",
       "      <td>11.952917</td>\n",
       "      <td>24</td>\n",
       "    </tr>\n",
       "    <tr>\n",
       "      <th>16</th>\n",
       "      <td>441.0</td>\n",
       "      <td>82.06</td>\n",
       "      <td>6.838333</td>\n",
       "      <td>12</td>\n",
       "    </tr>\n",
       "    <tr>\n",
       "      <th>17</th>\n",
       "      <td>454.0</td>\n",
       "      <td>529.80</td>\n",
       "      <td>44.150000</td>\n",
       "      <td>12</td>\n",
       "    </tr>\n",
       "    <tr>\n",
       "      <th>18</th>\n",
       "      <td>458.0</td>\n",
       "      <td>37.05</td>\n",
       "      <td>3.087500</td>\n",
       "      <td>12</td>\n",
       "    </tr>\n",
       "    <tr>\n",
       "      <th>19</th>\n",
       "      <td>459.0</td>\n",
       "      <td>206.54</td>\n",
       "      <td>17.211667</td>\n",
       "      <td>12</td>\n",
       "    </tr>\n",
       "    <tr>\n",
       "      <th>20</th>\n",
       "      <td>462.0</td>\n",
       "      <td>14.28</td>\n",
       "      <td>1.190000</td>\n",
       "      <td>12</td>\n",
       "    </tr>\n",
       "    <tr>\n",
       "      <th>21</th>\n",
       "      <td>465.0</td>\n",
       "      <td>32.23</td>\n",
       "      <td>2.685833</td>\n",
       "      <td>12</td>\n",
       "    </tr>\n",
       "    <tr>\n",
       "      <th>22</th>\n",
       "      <td>476.0</td>\n",
       "      <td>17.83</td>\n",
       "      <td>1.485833</td>\n",
       "      <td>12</td>\n",
       "    </tr>\n",
       "    <tr>\n",
       "      <th>23</th>\n",
       "      <td>484.0</td>\n",
       "      <td>141.33</td>\n",
       "      <td>11.777500</td>\n",
       "      <td>12</td>\n",
       "    </tr>\n",
       "    <tr>\n",
       "      <th>24</th>\n",
       "      <td>508.0</td>\n",
       "      <td>12.04</td>\n",
       "      <td>1.003333</td>\n",
       "      <td>12</td>\n",
       "    </tr>\n",
       "    <tr>\n",
       "      <th>25</th>\n",
       "      <td>513.0</td>\n",
       "      <td>115.92</td>\n",
       "      <td>9.660000</td>\n",
       "      <td>12</td>\n",
       "    </tr>\n",
       "    <tr>\n",
       "      <th>26</th>\n",
       "      <td>514.0</td>\n",
       "      <td>232.84</td>\n",
       "      <td>19.403333</td>\n",
       "      <td>12</td>\n",
       "    </tr>\n",
       "    <tr>\n",
       "      <th>27</th>\n",
       "      <td>515.0</td>\n",
       "      <td>24.68</td>\n",
       "      <td>2.056667</td>\n",
       "      <td>12</td>\n",
       "    </tr>\n",
       "    <tr>\n",
       "      <th>28</th>\n",
       "      <td>516.0</td>\n",
       "      <td>68.04</td>\n",
       "      <td>5.670000</td>\n",
       "      <td>12</td>\n",
       "    </tr>\n",
       "    <tr>\n",
       "      <th>29</th>\n",
       "      <td>528.0</td>\n",
       "      <td>258.79</td>\n",
       "      <td>21.565833</td>\n",
       "      <td>12</td>\n",
       "    </tr>\n",
       "    <tr>\n",
       "      <th>...</th>\n",
       "      <td>...</td>\n",
       "      <td>...</td>\n",
       "      <td>...</td>\n",
       "      <td>...</td>\n",
       "    </tr>\n",
       "    <tr>\n",
       "      <th>2203</th>\n",
       "      <td>84442.0</td>\n",
       "      <td>131.78</td>\n",
       "      <td>10.981667</td>\n",
       "      <td>12</td>\n",
       "    </tr>\n",
       "    <tr>\n",
       "      <th>2204</th>\n",
       "      <td>85394.0</td>\n",
       "      <td>145.74</td>\n",
       "      <td>12.145000</td>\n",
       "      <td>12</td>\n",
       "    </tr>\n",
       "    <tr>\n",
       "      <th>2205</th>\n",
       "      <td>85397.0</td>\n",
       "      <td>159.07</td>\n",
       "      <td>13.255833</td>\n",
       "      <td>12</td>\n",
       "    </tr>\n",
       "    <tr>\n",
       "      <th>2206</th>\n",
       "      <td>86068.0</td>\n",
       "      <td>164.66</td>\n",
       "      <td>13.721667</td>\n",
       "      <td>12</td>\n",
       "    </tr>\n",
       "    <tr>\n",
       "      <th>2207</th>\n",
       "      <td>87951.0</td>\n",
       "      <td>165.39</td>\n",
       "      <td>13.782500</td>\n",
       "      <td>12</td>\n",
       "    </tr>\n",
       "    <tr>\n",
       "      <th>2208</th>\n",
       "      <td>87961.0</td>\n",
       "      <td>13.55</td>\n",
       "      <td>1.129167</td>\n",
       "      <td>12</td>\n",
       "    </tr>\n",
       "    <tr>\n",
       "      <th>2209</th>\n",
       "      <td>89634.0</td>\n",
       "      <td>170.26</td>\n",
       "      <td>14.188333</td>\n",
       "      <td>12</td>\n",
       "    </tr>\n",
       "    <tr>\n",
       "      <th>2210</th>\n",
       "      <td>90490.0</td>\n",
       "      <td>18.85</td>\n",
       "      <td>1.570833</td>\n",
       "      <td>12</td>\n",
       "    </tr>\n",
       "    <tr>\n",
       "      <th>2211</th>\n",
       "      <td>90797.0</td>\n",
       "      <td>127.77</td>\n",
       "      <td>10.647500</td>\n",
       "      <td>12</td>\n",
       "    </tr>\n",
       "    <tr>\n",
       "      <th>2212</th>\n",
       "      <td>90809.0</td>\n",
       "      <td>162.10</td>\n",
       "      <td>13.508333</td>\n",
       "      <td>12</td>\n",
       "    </tr>\n",
       "    <tr>\n",
       "      <th>2213</th>\n",
       "      <td>91587.0</td>\n",
       "      <td>18.99</td>\n",
       "      <td>1.582500</td>\n",
       "      <td>12</td>\n",
       "    </tr>\n",
       "    <tr>\n",
       "      <th>2214</th>\n",
       "      <td>93053.0</td>\n",
       "      <td>168.22</td>\n",
       "      <td>14.018333</td>\n",
       "      <td>12</td>\n",
       "    </tr>\n",
       "    <tr>\n",
       "      <th>2215</th>\n",
       "      <td>93066.0</td>\n",
       "      <td>8.23</td>\n",
       "      <td>0.685833</td>\n",
       "      <td>12</td>\n",
       "    </tr>\n",
       "    <tr>\n",
       "      <th>2216</th>\n",
       "      <td>93270.0</td>\n",
       "      <td>13.27</td>\n",
       "      <td>1.105833</td>\n",
       "      <td>12</td>\n",
       "    </tr>\n",
       "    <tr>\n",
       "      <th>2217</th>\n",
       "      <td>93638.0</td>\n",
       "      <td>136.43</td>\n",
       "      <td>11.369167</td>\n",
       "      <td>12</td>\n",
       "    </tr>\n",
       "    <tr>\n",
       "      <th>2218</th>\n",
       "      <td>95351.0</td>\n",
       "      <td>183.79</td>\n",
       "      <td>15.315833</td>\n",
       "      <td>12</td>\n",
       "    </tr>\n",
       "    <tr>\n",
       "      <th>2219</th>\n",
       "      <td>103431.0</td>\n",
       "      <td>132.03</td>\n",
       "      <td>11.002500</td>\n",
       "      <td>12</td>\n",
       "    </tr>\n",
       "    <tr>\n",
       "      <th>2220</th>\n",
       "      <td>103443.0</td>\n",
       "      <td>127.23</td>\n",
       "      <td>10.602500</td>\n",
       "      <td>12</td>\n",
       "    </tr>\n",
       "    <tr>\n",
       "      <th>2221</th>\n",
       "      <td>107430.0</td>\n",
       "      <td>146.49</td>\n",
       "      <td>12.207500</td>\n",
       "      <td>12</td>\n",
       "    </tr>\n",
       "    <tr>\n",
       "      <th>2222</th>\n",
       "      <td>107456.0</td>\n",
       "      <td>134.40</td>\n",
       "      <td>11.200000</td>\n",
       "      <td>12</td>\n",
       "    </tr>\n",
       "    <tr>\n",
       "      <th>2223</th>\n",
       "      <td>108408.0</td>\n",
       "      <td>126.00</td>\n",
       "      <td>10.500000</td>\n",
       "      <td>12</td>\n",
       "    </tr>\n",
       "    <tr>\n",
       "      <th>2224</th>\n",
       "      <td>109483.0</td>\n",
       "      <td>110.95</td>\n",
       "      <td>9.245833</td>\n",
       "      <td>12</td>\n",
       "    </tr>\n",
       "    <tr>\n",
       "      <th>2225</th>\n",
       "      <td>109804.0</td>\n",
       "      <td>127.01</td>\n",
       "      <td>10.584167</td>\n",
       "      <td>12</td>\n",
       "    </tr>\n",
       "    <tr>\n",
       "      <th>2226</th>\n",
       "      <td>111328.0</td>\n",
       "      <td>141.16</td>\n",
       "      <td>11.763333</td>\n",
       "      <td>12</td>\n",
       "    </tr>\n",
       "    <tr>\n",
       "      <th>2227</th>\n",
       "      <td>112581.0</td>\n",
       "      <td>183.89</td>\n",
       "      <td>15.324167</td>\n",
       "      <td>12</td>\n",
       "    </tr>\n",
       "    <tr>\n",
       "      <th>2228</th>\n",
       "      <td>113120.0</td>\n",
       "      <td>140.18</td>\n",
       "      <td>11.681667</td>\n",
       "      <td>12</td>\n",
       "    </tr>\n",
       "    <tr>\n",
       "      <th>2229</th>\n",
       "      <td>120423.0</td>\n",
       "      <td>91.48</td>\n",
       "      <td>7.623333</td>\n",
       "      <td>12</td>\n",
       "    </tr>\n",
       "    <tr>\n",
       "      <th>2230</th>\n",
       "      <td>121315.0</td>\n",
       "      <td>112.31</td>\n",
       "      <td>9.359167</td>\n",
       "      <td>12</td>\n",
       "    </tr>\n",
       "    <tr>\n",
       "      <th>2231</th>\n",
       "      <td>122729.0</td>\n",
       "      <td>136.53</td>\n",
       "      <td>11.377500</td>\n",
       "      <td>12</td>\n",
       "    </tr>\n",
       "    <tr>\n",
       "      <th>2232</th>\n",
       "      <td>126352.0</td>\n",
       "      <td>147.88</td>\n",
       "      <td>12.323333</td>\n",
       "      <td>12</td>\n",
       "    </tr>\n",
       "  </tbody>\n",
       "</table>\n",
       "<p>2233 rows × 4 columns</p>\n",
       "</div>"
      ],
      "text/plain": [
       "      gdp_per_capita ($)     sum       mean  count\n",
       "0                  251.0   18.00   1.500000     12\n",
       "1                  291.0  191.44  15.953333     12\n",
       "2                  313.0  182.63  15.219167     12\n",
       "3                  345.0  193.30  16.108333     12\n",
       "4                  357.0   51.05   4.254167     12\n",
       "5                  359.0  173.11  14.425833     12\n",
       "6                  385.0   40.86   3.405000     12\n",
       "7                  387.0   66.73   5.560833     12\n",
       "8                  398.0  184.94  15.411667     12\n",
       "9                  424.0  137.86  11.488333     12\n",
       "10                 425.0  239.77  19.980833     12\n",
       "11                 426.0   51.79   4.315833     12\n",
       "12                 428.0   95.28   7.940000     12\n",
       "13                 431.0  558.72  46.560000     12\n",
       "14                 435.0  190.85  15.904167     12\n",
       "15                 437.0  286.87  11.952917     24\n",
       "16                 441.0   82.06   6.838333     12\n",
       "17                 454.0  529.80  44.150000     12\n",
       "18                 458.0   37.05   3.087500     12\n",
       "19                 459.0  206.54  17.211667     12\n",
       "20                 462.0   14.28   1.190000     12\n",
       "21                 465.0   32.23   2.685833     12\n",
       "22                 476.0   17.83   1.485833     12\n",
       "23                 484.0  141.33  11.777500     12\n",
       "24                 508.0   12.04   1.003333     12\n",
       "25                 513.0  115.92   9.660000     12\n",
       "26                 514.0  232.84  19.403333     12\n",
       "27                 515.0   24.68   2.056667     12\n",
       "28                 516.0   68.04   5.670000     12\n",
       "29                 528.0  258.79  21.565833     12\n",
       "...                  ...     ...        ...    ...\n",
       "2203             84442.0  131.78  10.981667     12\n",
       "2204             85394.0  145.74  12.145000     12\n",
       "2205             85397.0  159.07  13.255833     12\n",
       "2206             86068.0  164.66  13.721667     12\n",
       "2207             87951.0  165.39  13.782500     12\n",
       "2208             87961.0   13.55   1.129167     12\n",
       "2209             89634.0  170.26  14.188333     12\n",
       "2210             90490.0   18.85   1.570833     12\n",
       "2211             90797.0  127.77  10.647500     12\n",
       "2212             90809.0  162.10  13.508333     12\n",
       "2213             91587.0   18.99   1.582500     12\n",
       "2214             93053.0  168.22  14.018333     12\n",
       "2215             93066.0    8.23   0.685833     12\n",
       "2216             93270.0   13.27   1.105833     12\n",
       "2217             93638.0  136.43  11.369167     12\n",
       "2218             95351.0  183.79  15.315833     12\n",
       "2219            103431.0  132.03  11.002500     12\n",
       "2220            103443.0  127.23  10.602500     12\n",
       "2221            107430.0  146.49  12.207500     12\n",
       "2222            107456.0  134.40  11.200000     12\n",
       "2223            108408.0  126.00  10.500000     12\n",
       "2224            109483.0  110.95   9.245833     12\n",
       "2225            109804.0  127.01  10.584167     12\n",
       "2226            111328.0  141.16  11.763333     12\n",
       "2227            112581.0  183.89  15.324167     12\n",
       "2228            113120.0  140.18  11.681667     12\n",
       "2229            120423.0   91.48   7.623333     12\n",
       "2230            121315.0  112.31   9.359167     12\n",
       "2231            122729.0  136.53  11.377500     12\n",
       "2232            126352.0  147.88  12.323333     12\n",
       "\n",
       "[2233 rows x 4 columns]"
      ]
     },
     "execution_count": 7,
     "metadata": {},
     "output_type": "execute_result"
    }
   ],
   "source": [
    "agg_gpd_suno"
   ]
  },
  {
   "cell_type": "code",
   "execution_count": 8,
   "metadata": {},
   "outputs": [
    {
     "data": {
      "text/plain": [
       "157.19311111111082"
      ]
     },
     "execution_count": 8,
     "metadata": {},
     "output_type": "execute_result"
    }
   ],
   "source": [
    "flt = (agg_gpd_suno['gdp_per_capita ($)'] > 0) & (agg_gpd_suno['gdp_per_capita ($)'] <= 12000)\n",
    "fltrtd =agg_gpd_suno.loc[flt, ['gdp_per_capita ($)', 'sum']]\n",
    "fltrtd['sum'].mean()"
   ]
  },
  {
   "cell_type": "code",
   "execution_count": 9,
   "metadata": {},
   "outputs": [
    {
     "data": {
      "text/plain": [
       "167.52971084337358"
      ]
     },
     "execution_count": 9,
     "metadata": {},
     "output_type": "execute_result"
    }
   ],
   "source": [
    "flt = (agg_gpd_suno['gdp_per_capita ($)'] > 12000) & (agg_gpd_suno['gdp_per_capita ($)'] <= 24000)\n",
    "fltrtd =agg_gpd_suno.loc[flt, ['gdp_per_capita ($)', 'sum']]\n",
    "fltrtd['sum'].mean()"
   ]
  },
  {
   "cell_type": "code",
   "execution_count": 10,
   "metadata": {},
   "outputs": [
    {
     "data": {
      "text/plain": [
       "164.94772241992877"
      ]
     },
     "execution_count": 10,
     "metadata": {},
     "output_type": "execute_result"
    }
   ],
   "source": [
    "flt = (agg_gpd_suno['gdp_per_capita ($)'] > 24000) & (agg_gpd_suno['gdp_per_capita ($)'] <= 36000)\n",
    "fltrtd =agg_gpd_suno.loc[flt, ['gdp_per_capita ($)', 'sum']]\n",
    "fltrtd['sum'].mean()"
   ]
  },
  {
   "cell_type": "code",
   "execution_count": 11,
   "metadata": {},
   "outputs": [
    {
     "data": {
      "text/plain": [
       "161.09680851063828"
      ]
     },
     "execution_count": 11,
     "metadata": {},
     "output_type": "execute_result"
    }
   ],
   "source": [
    "flt = (agg_gpd_suno['gdp_per_capita ($)'] > 36000) & (agg_gpd_suno['gdp_per_capita ($)'] <= 48000)\n",
    "fltrtd =agg_gpd_suno.loc[flt, ['gdp_per_capita ($)', 'sum']]\n",
    "fltrtd['sum'].mean()"
   ]
  },
  {
   "cell_type": "code",
   "execution_count": 12,
   "metadata": {},
   "outputs": [
    {
     "data": {
      "text/plain": [
       "165.15271844660194"
      ]
     },
     "execution_count": 12,
     "metadata": {},
     "output_type": "execute_result"
    }
   ],
   "source": [
    "flt = (agg_gpd_suno['gdp_per_capita ($)'] > 48000) & (agg_gpd_suno['gdp_per_capita ($)'] <= 60000)\n",
    "fltrtd =agg_gpd_suno.loc[flt, ['gdp_per_capita ($)', 'sum']]\n",
    "fltrtd['sum'].mean()"
   ]
  },
  {
   "cell_type": "code",
   "execution_count": 13,
   "metadata": {},
   "outputs": [
    {
     "data": {
      "text/plain": [
       "126.50088235294119"
      ]
     },
     "execution_count": 13,
     "metadata": {},
     "output_type": "execute_result"
    }
   ],
   "source": [
    "flt = (agg_gpd_suno['gdp_per_capita ($)'] > 60000) & (agg_gpd_suno['gdp_per_capita ($)'] <= 72000)\n",
    "fltrtd =agg_gpd_suno.loc[flt, ['gdp_per_capita ($)', 'sum']]\n",
    "fltrtd['sum'].mean()"
   ]
  },
  {
   "cell_type": "code",
   "execution_count": 14,
   "metadata": {},
   "outputs": [
    {
     "data": {
      "text/plain": [
       "143.35785714285717"
      ]
     },
     "execution_count": 14,
     "metadata": {},
     "output_type": "execute_result"
    }
   ],
   "source": [
    "flt = (agg_gpd_suno['gdp_per_capita ($)'] > 72000) & (agg_gpd_suno['gdp_per_capita ($)'] <= 84000)\n",
    "fltrtd =agg_gpd_suno.loc[flt, ['gdp_per_capita ($)', 'sum']]\n",
    "fltrtd['sum'].mean()"
   ]
  },
  {
   "cell_type": "code",
   "execution_count": 15,
   "metadata": {},
   "outputs": [
    {
     "data": {
      "text/plain": [
       "111.75625"
      ]
     },
     "execution_count": 15,
     "metadata": {},
     "output_type": "execute_result"
    }
   ],
   "source": [
    "flt = (agg_gpd_suno['gdp_per_capita ($)'] > 84000) & (agg_gpd_suno['gdp_per_capita ($)'] <= 96000)\n",
    "fltrtd =agg_gpd_suno.loc[flt, ['gdp_per_capita ($)', 'sum']]\n",
    "fltrtd['sum'].mean()"
   ]
  },
  {
   "cell_type": "code",
   "execution_count": 16,
   "metadata": {},
   "outputs": [
    {
     "data": {
      "text/plain": [
       "135.0375"
      ]
     },
     "execution_count": 16,
     "metadata": {},
     "output_type": "execute_result"
    }
   ],
   "source": [
    "flt = (agg_gpd_suno['gdp_per_capita ($)'] > 96000) & (agg_gpd_suno['gdp_per_capita ($)'] <= 108000)\n",
    "fltrtd =agg_gpd_suno.loc[flt, ['gdp_per_capita ($)', 'sum']]\n",
    "fltrtd['sum'].mean()"
   ]
  },
  {
   "cell_type": "code",
   "execution_count": 17,
   "metadata": {},
   "outputs": [
    {
     "data": {
      "text/plain": [
       "138.19833333333335"
      ]
     },
     "execution_count": 17,
     "metadata": {},
     "output_type": "execute_result"
    }
   ],
   "source": [
    "flt = (agg_gpd_suno['gdp_per_capita ($)'] > 108000) & (agg_gpd_suno['gdp_per_capita ($)'] <= 120000)\n",
    "fltrtd =agg_gpd_suno.loc[flt, ['gdp_per_capita ($)', 'sum']]\n",
    "fltrtd['sum'].mean()"
   ]
  },
  {
   "cell_type": "code",
   "execution_count": 18,
   "metadata": {},
   "outputs": [
    {
     "data": {
      "text/plain": [
       "122.05000000000001"
      ]
     },
     "execution_count": 18,
     "metadata": {},
     "output_type": "execute_result"
    }
   ],
   "source": [
    "flt = (agg_gpd_suno['gdp_per_capita ($)'] > 120000)\n",
    "fltrtd =agg_gpd_suno.loc[flt, ['gdp_per_capita ($)', 'sum']]\n",
    "fltrtd['sum'].mean()"
   ]
  },
  {
   "cell_type": "code",
   "execution_count": null,
   "metadata": {},
   "outputs": [],
   "source": []
  },
  {
   "cell_type": "code",
   "execution_count": null,
   "metadata": {},
   "outputs": [],
   "source": []
  },
  {
   "cell_type": "code",
   "execution_count": null,
   "metadata": {},
   "outputs": [],
   "source": []
  },
  {
   "cell_type": "code",
   "execution_count": null,
   "metadata": {},
   "outputs": [],
   "source": []
  },
  {
   "cell_type": "code",
   "execution_count": 19,
   "metadata": {},
   "outputs": [
    {
     "data": {
      "text/plain": [
       "126352.0"
      ]
     },
     "execution_count": 19,
     "metadata": {},
     "output_type": "execute_result"
    }
   ],
   "source": [
    "data['gdp_per_capita ($)'].max()"
   ]
  },
  {
   "cell_type": "code",
   "execution_count": 20,
   "metadata": {},
   "outputs": [
    {
     "data": {
      "text/plain": [
       "251.0"
      ]
     },
     "execution_count": 20,
     "metadata": {},
     "output_type": "execute_result"
    }
   ],
   "source": [
    "data['gdp_per_capita ($)'].min()"
   ]
  },
  {
   "cell_type": "code",
   "execution_count": 21,
   "metadata": {},
   "outputs": [
    {
     "data": {
      "text/plain": [
       "Index(['sex', 'country', 'year', 'age', 'generation', 'suicides_no',\n",
       "       'population', 'suicides/100k pop', 'HDI for year', 'gdp_for_year ($) ',\n",
       "       'gdp_per_capita ($)'],\n",
       "      dtype='object')"
      ]
     },
     "execution_count": 21,
     "metadata": {},
     "output_type": "execute_result"
    }
   ],
   "source": [
    "data.columns"
   ]
  }
 ],
 "metadata": {
  "kernelspec": {
   "display_name": "Python 3",
   "language": "python",
   "name": "python3"
  },
  "language_info": {
   "codemirror_mode": {
    "name": "ipython",
    "version": 3
   },
   "file_extension": ".py",
   "mimetype": "text/x-python",
   "name": "python",
   "nbconvert_exporter": "python",
   "pygments_lexer": "ipython3",
   "version": "3.6.5"
  }
 },
 "nbformat": 4,
 "nbformat_minor": 2
}
