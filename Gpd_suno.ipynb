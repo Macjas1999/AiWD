{
 "cells": [
  {
   "cell_type": "code",
   "execution_count": 4,
   "metadata": {},
   "outputs": [],
   "source": [
    "import numpy as np\n",
    "import matplotlib.pyplot as plt\n",
    "import pandas as pd\n",
    "import scipy.stats as st"
   ]
  },
  {
   "cell_type": "code",
   "execution_count": 5,
   "metadata": {},
   "outputs": [],
   "source": [
    "data = pd.read_csv('masterCSVfmfull.csv')"
   ]
  },
  {
   "cell_type": "code",
   "execution_count": 6,
   "metadata": {},
   "outputs": [],
   "source": [
    "agg_gpd_suno = data.groupby('gdp_per_capita ($)')['suicides_no'].agg(['sum', 'mean', 'count'])\n",
    "agg_gpd_suno = agg_gpd_suno.reset_index()"
   ]
  },
  {
   "cell_type": "code",
   "execution_count": 7,
   "metadata": {},
   "outputs": [],
   "source": [
    "#ftl1= (agg_pop['year'] != 2016)\n",
    "#agg_pop = agg_pop.loc[ftl1, ['gdp_per_capita ($)', 'sum', 'mean','count']]"
   ]
  },
  {
   "cell_type": "code",
   "execution_count": 8,
   "metadata": {},
   "outputs": [
    {
     "data": {
      "text/html": [
       "<div>\n",
       "<style scoped>\n",
       "    .dataframe tbody tr th:only-of-type {\n",
       "        vertical-align: middle;\n",
       "    }\n",
       "\n",
       "    .dataframe tbody tr th {\n",
       "        vertical-align: top;\n",
       "    }\n",
       "\n",
       "    .dataframe thead th {\n",
       "        text-align: right;\n",
       "    }\n",
       "</style>\n",
       "<table border=\"1\" class=\"dataframe\">\n",
       "  <thead>\n",
       "    <tr style=\"text-align: right;\">\n",
       "      <th></th>\n",
       "      <th>gdp_per_capita ($)</th>\n",
       "      <th>sum</th>\n",
       "      <th>mean</th>\n",
       "      <th>count</th>\n",
       "    </tr>\n",
       "  </thead>\n",
       "  <tbody>\n",
       "    <tr>\n",
       "      <th>0</th>\n",
       "      <td>251.0</td>\n",
       "      <td>47.0</td>\n",
       "      <td>3.916667</td>\n",
       "      <td>12</td>\n",
       "    </tr>\n",
       "    <tr>\n",
       "      <th>1</th>\n",
       "      <td>291.0</td>\n",
       "      <td>556.0</td>\n",
       "      <td>46.333333</td>\n",
       "      <td>12</td>\n",
       "    </tr>\n",
       "    <tr>\n",
       "      <th>2</th>\n",
       "      <td>313.0</td>\n",
       "      <td>510.0</td>\n",
       "      <td>42.500000</td>\n",
       "      <td>12</td>\n",
       "    </tr>\n",
       "    <tr>\n",
       "      <th>3</th>\n",
       "      <td>345.0</td>\n",
       "      <td>560.0</td>\n",
       "      <td>46.666667</td>\n",
       "      <td>12</td>\n",
       "    </tr>\n",
       "    <tr>\n",
       "      <th>4</th>\n",
       "      <td>357.0</td>\n",
       "      <td>106.0</td>\n",
       "      <td>8.833333</td>\n",
       "      <td>12</td>\n",
       "    </tr>\n",
       "    <tr>\n",
       "      <th>5</th>\n",
       "      <td>359.0</td>\n",
       "      <td>567.0</td>\n",
       "      <td>47.250000</td>\n",
       "      <td>12</td>\n",
       "    </tr>\n",
       "    <tr>\n",
       "      <th>6</th>\n",
       "      <td>385.0</td>\n",
       "      <td>83.0</td>\n",
       "      <td>6.916667</td>\n",
       "      <td>12</td>\n",
       "    </tr>\n",
       "    <tr>\n",
       "      <th>7</th>\n",
       "      <td>387.0</td>\n",
       "      <td>112.0</td>\n",
       "      <td>9.333333</td>\n",
       "      <td>12</td>\n",
       "    </tr>\n",
       "    <tr>\n",
       "      <th>8</th>\n",
       "      <td>398.0</td>\n",
       "      <td>509.0</td>\n",
       "      <td>42.416667</td>\n",
       "      <td>12</td>\n",
       "    </tr>\n",
       "    <tr>\n",
       "      <th>9</th>\n",
       "      <td>424.0</td>\n",
       "      <td>479.0</td>\n",
       "      <td>39.916667</td>\n",
       "      <td>12</td>\n",
       "    </tr>\n",
       "    <tr>\n",
       "      <th>10</th>\n",
       "      <td>425.0</td>\n",
       "      <td>605.0</td>\n",
       "      <td>50.416667</td>\n",
       "      <td>12</td>\n",
       "    </tr>\n",
       "    <tr>\n",
       "      <th>11</th>\n",
       "      <td>426.0</td>\n",
       "      <td>130.0</td>\n",
       "      <td>10.833333</td>\n",
       "      <td>12</td>\n",
       "    </tr>\n",
       "    <tr>\n",
       "      <th>12</th>\n",
       "      <td>428.0</td>\n",
       "      <td>1576.0</td>\n",
       "      <td>131.333333</td>\n",
       "      <td>12</td>\n",
       "    </tr>\n",
       "    <tr>\n",
       "      <th>13</th>\n",
       "      <td>431.0</td>\n",
       "      <td>5668.0</td>\n",
       "      <td>472.333333</td>\n",
       "      <td>12</td>\n",
       "    </tr>\n",
       "    <tr>\n",
       "      <th>14</th>\n",
       "      <td>435.0</td>\n",
       "      <td>496.0</td>\n",
       "      <td>41.333333</td>\n",
       "      <td>12</td>\n",
       "    </tr>\n",
       "    <tr>\n",
       "      <th>15</th>\n",
       "      <td>437.0</td>\n",
       "      <td>654.0</td>\n",
       "      <td>27.250000</td>\n",
       "      <td>24</td>\n",
       "    </tr>\n",
       "    <tr>\n",
       "      <th>16</th>\n",
       "      <td>441.0</td>\n",
       "      <td>1416.0</td>\n",
       "      <td>118.000000</td>\n",
       "      <td>12</td>\n",
       "    </tr>\n",
       "    <tr>\n",
       "      <th>17</th>\n",
       "      <td>454.0</td>\n",
       "      <td>5345.0</td>\n",
       "      <td>445.416667</td>\n",
       "      <td>12</td>\n",
       "    </tr>\n",
       "    <tr>\n",
       "      <th>18</th>\n",
       "      <td>458.0</td>\n",
       "      <td>87.0</td>\n",
       "      <td>7.250000</td>\n",
       "      <td>12</td>\n",
       "    </tr>\n",
       "    <tr>\n",
       "      <th>19</th>\n",
       "      <td>459.0</td>\n",
       "      <td>480.0</td>\n",
       "      <td>40.000000</td>\n",
       "      <td>12</td>\n",
       "    </tr>\n",
       "    <tr>\n",
       "      <th>20</th>\n",
       "      <td>462.0</td>\n",
       "      <td>49.0</td>\n",
       "      <td>4.083333</td>\n",
       "      <td>12</td>\n",
       "    </tr>\n",
       "    <tr>\n",
       "      <th>21</th>\n",
       "      <td>465.0</td>\n",
       "      <td>77.0</td>\n",
       "      <td>6.416667</td>\n",
       "      <td>12</td>\n",
       "    </tr>\n",
       "    <tr>\n",
       "      <th>22</th>\n",
       "      <td>476.0</td>\n",
       "      <td>69.0</td>\n",
       "      <td>5.750000</td>\n",
       "      <td>12</td>\n",
       "    </tr>\n",
       "    <tr>\n",
       "      <th>23</th>\n",
       "      <td>484.0</td>\n",
       "      <td>438.0</td>\n",
       "      <td>36.500000</td>\n",
       "      <td>12</td>\n",
       "    </tr>\n",
       "    <tr>\n",
       "      <th>24</th>\n",
       "      <td>508.0</td>\n",
       "      <td>47.0</td>\n",
       "      <td>3.916667</td>\n",
       "      <td>12</td>\n",
       "    </tr>\n",
       "    <tr>\n",
       "      <th>25</th>\n",
       "      <td>513.0</td>\n",
       "      <td>1914.0</td>\n",
       "      <td>159.500000</td>\n",
       "      <td>12</td>\n",
       "    </tr>\n",
       "    <tr>\n",
       "      <th>26</th>\n",
       "      <td>514.0</td>\n",
       "      <td>105.0</td>\n",
       "      <td>8.750000</td>\n",
       "      <td>12</td>\n",
       "    </tr>\n",
       "    <tr>\n",
       "      <th>27</th>\n",
       "      <td>515.0</td>\n",
       "      <td>67.0</td>\n",
       "      <td>5.583333</td>\n",
       "      <td>12</td>\n",
       "    </tr>\n",
       "    <tr>\n",
       "      <th>28</th>\n",
       "      <td>516.0</td>\n",
       "      <td>1251.0</td>\n",
       "      <td>104.250000</td>\n",
       "      <td>12</td>\n",
       "    </tr>\n",
       "    <tr>\n",
       "      <th>29</th>\n",
       "      <td>528.0</td>\n",
       "      <td>563.0</td>\n",
       "      <td>46.916667</td>\n",
       "      <td>12</td>\n",
       "    </tr>\n",
       "    <tr>\n",
       "      <th>...</th>\n",
       "      <td>...</td>\n",
       "      <td>...</td>\n",
       "      <td>...</td>\n",
       "      <td>...</td>\n",
       "    </tr>\n",
       "    <tr>\n",
       "      <th>2203</th>\n",
       "      <td>84442.0</td>\n",
       "      <td>355.0</td>\n",
       "      <td>29.583333</td>\n",
       "      <td>12</td>\n",
       "    </tr>\n",
       "    <tr>\n",
       "      <th>2204</th>\n",
       "      <td>85394.0</td>\n",
       "      <td>573.0</td>\n",
       "      <td>47.750000</td>\n",
       "      <td>12</td>\n",
       "    </tr>\n",
       "    <tr>\n",
       "      <th>2205</th>\n",
       "      <td>85397.0</td>\n",
       "      <td>49.0</td>\n",
       "      <td>4.083333</td>\n",
       "      <td>12</td>\n",
       "    </tr>\n",
       "    <tr>\n",
       "      <th>2206</th>\n",
       "      <td>86068.0</td>\n",
       "      <td>1073.0</td>\n",
       "      <td>89.416667</td>\n",
       "      <td>12</td>\n",
       "    </tr>\n",
       "    <tr>\n",
       "      <th>2207</th>\n",
       "      <td>87951.0</td>\n",
       "      <td>1038.0</td>\n",
       "      <td>86.500000</td>\n",
       "      <td>12</td>\n",
       "    </tr>\n",
       "    <tr>\n",
       "      <th>2208</th>\n",
       "      <td>87961.0</td>\n",
       "      <td>33.0</td>\n",
       "      <td>2.750000</td>\n",
       "      <td>12</td>\n",
       "    </tr>\n",
       "    <tr>\n",
       "      <th>2209</th>\n",
       "      <td>89634.0</td>\n",
       "      <td>1071.0</td>\n",
       "      <td>89.250000</td>\n",
       "      <td>12</td>\n",
       "    </tr>\n",
       "    <tr>\n",
       "      <th>2210</th>\n",
       "      <td>90490.0</td>\n",
       "      <td>50.0</td>\n",
       "      <td>4.166667</td>\n",
       "      <td>12</td>\n",
       "    </tr>\n",
       "    <tr>\n",
       "      <th>2211</th>\n",
       "      <td>90797.0</td>\n",
       "      <td>485.0</td>\n",
       "      <td>40.416667</td>\n",
       "      <td>12</td>\n",
       "    </tr>\n",
       "    <tr>\n",
       "      <th>2212</th>\n",
       "      <td>90809.0</td>\n",
       "      <td>1032.0</td>\n",
       "      <td>86.000000</td>\n",
       "      <td>12</td>\n",
       "    </tr>\n",
       "    <tr>\n",
       "      <th>2213</th>\n",
       "      <td>91587.0</td>\n",
       "      <td>55.0</td>\n",
       "      <td>4.583333</td>\n",
       "      <td>12</td>\n",
       "    </tr>\n",
       "    <tr>\n",
       "      <th>2214</th>\n",
       "      <td>93053.0</td>\n",
       "      <td>1034.0</td>\n",
       "      <td>86.166667</td>\n",
       "      <td>12</td>\n",
       "    </tr>\n",
       "    <tr>\n",
       "      <th>2215</th>\n",
       "      <td>93066.0</td>\n",
       "      <td>37.0</td>\n",
       "      <td>3.083333</td>\n",
       "      <td>12</td>\n",
       "    </tr>\n",
       "    <tr>\n",
       "      <th>2216</th>\n",
       "      <td>93270.0</td>\n",
       "      <td>43.0</td>\n",
       "      <td>3.583333</td>\n",
       "      <td>12</td>\n",
       "    </tr>\n",
       "    <tr>\n",
       "      <th>2217</th>\n",
       "      <td>93638.0</td>\n",
       "      <td>548.0</td>\n",
       "      <td>45.666667</td>\n",
       "      <td>12</td>\n",
       "    </tr>\n",
       "    <tr>\n",
       "      <th>2218</th>\n",
       "      <td>95351.0</td>\n",
       "      <td>65.0</td>\n",
       "      <td>5.416667</td>\n",
       "      <td>12</td>\n",
       "    </tr>\n",
       "    <tr>\n",
       "      <th>2219</th>\n",
       "      <td>103431.0</td>\n",
       "      <td>505.0</td>\n",
       "      <td>42.083333</td>\n",
       "      <td>12</td>\n",
       "    </tr>\n",
       "    <tr>\n",
       "      <th>2220</th>\n",
       "      <td>103443.0</td>\n",
       "      <td>548.0</td>\n",
       "      <td>45.666667</td>\n",
       "      <td>12</td>\n",
       "    </tr>\n",
       "    <tr>\n",
       "      <th>2221</th>\n",
       "      <td>107430.0</td>\n",
       "      <td>598.0</td>\n",
       "      <td>49.833333</td>\n",
       "      <td>12</td>\n",
       "    </tr>\n",
       "    <tr>\n",
       "      <th>2222</th>\n",
       "      <td>107456.0</td>\n",
       "      <td>64.0</td>\n",
       "      <td>5.333333</td>\n",
       "      <td>12</td>\n",
       "    </tr>\n",
       "    <tr>\n",
       "      <th>2223</th>\n",
       "      <td>108408.0</td>\n",
       "      <td>515.0</td>\n",
       "      <td>42.916667</td>\n",
       "      <td>12</td>\n",
       "    </tr>\n",
       "    <tr>\n",
       "      <th>2224</th>\n",
       "      <td>109483.0</td>\n",
       "      <td>48.0</td>\n",
       "      <td>4.000000</td>\n",
       "      <td>12</td>\n",
       "    </tr>\n",
       "    <tr>\n",
       "      <th>2225</th>\n",
       "      <td>109804.0</td>\n",
       "      <td>554.0</td>\n",
       "      <td>46.166667</td>\n",
       "      <td>12</td>\n",
       "    </tr>\n",
       "    <tr>\n",
       "      <th>2226</th>\n",
       "      <td>111328.0</td>\n",
       "      <td>54.0</td>\n",
       "      <td>4.500000</td>\n",
       "      <td>12</td>\n",
       "    </tr>\n",
       "    <tr>\n",
       "      <th>2227</th>\n",
       "      <td>112581.0</td>\n",
       "      <td>78.0</td>\n",
       "      <td>6.500000</td>\n",
       "      <td>12</td>\n",
       "    </tr>\n",
       "    <tr>\n",
       "      <th>2228</th>\n",
       "      <td>113120.0</td>\n",
       "      <td>51.0</td>\n",
       "      <td>4.250000</td>\n",
       "      <td>12</td>\n",
       "    </tr>\n",
       "    <tr>\n",
       "      <th>2229</th>\n",
       "      <td>120423.0</td>\n",
       "      <td>40.0</td>\n",
       "      <td>3.333333</td>\n",
       "      <td>12</td>\n",
       "    </tr>\n",
       "    <tr>\n",
       "      <th>2230</th>\n",
       "      <td>121315.0</td>\n",
       "      <td>43.0</td>\n",
       "      <td>3.583333</td>\n",
       "      <td>12</td>\n",
       "    </tr>\n",
       "    <tr>\n",
       "      <th>2231</th>\n",
       "      <td>122729.0</td>\n",
       "      <td>55.0</td>\n",
       "      <td>4.583333</td>\n",
       "      <td>12</td>\n",
       "    </tr>\n",
       "    <tr>\n",
       "      <th>2232</th>\n",
       "      <td>126352.0</td>\n",
       "      <td>67.0</td>\n",
       "      <td>5.583333</td>\n",
       "      <td>12</td>\n",
       "    </tr>\n",
       "  </tbody>\n",
       "</table>\n",
       "<p>2233 rows × 4 columns</p>\n",
       "</div>"
      ],
      "text/plain": [
       "      gdp_per_capita ($)     sum        mean  count\n",
       "0                  251.0    47.0    3.916667     12\n",
       "1                  291.0   556.0   46.333333     12\n",
       "2                  313.0   510.0   42.500000     12\n",
       "3                  345.0   560.0   46.666667     12\n",
       "4                  357.0   106.0    8.833333     12\n",
       "5                  359.0   567.0   47.250000     12\n",
       "6                  385.0    83.0    6.916667     12\n",
       "7                  387.0   112.0    9.333333     12\n",
       "8                  398.0   509.0   42.416667     12\n",
       "9                  424.0   479.0   39.916667     12\n",
       "10                 425.0   605.0   50.416667     12\n",
       "11                 426.0   130.0   10.833333     12\n",
       "12                 428.0  1576.0  131.333333     12\n",
       "13                 431.0  5668.0  472.333333     12\n",
       "14                 435.0   496.0   41.333333     12\n",
       "15                 437.0   654.0   27.250000     24\n",
       "16                 441.0  1416.0  118.000000     12\n",
       "17                 454.0  5345.0  445.416667     12\n",
       "18                 458.0    87.0    7.250000     12\n",
       "19                 459.0   480.0   40.000000     12\n",
       "20                 462.0    49.0    4.083333     12\n",
       "21                 465.0    77.0    6.416667     12\n",
       "22                 476.0    69.0    5.750000     12\n",
       "23                 484.0   438.0   36.500000     12\n",
       "24                 508.0    47.0    3.916667     12\n",
       "25                 513.0  1914.0  159.500000     12\n",
       "26                 514.0   105.0    8.750000     12\n",
       "27                 515.0    67.0    5.583333     12\n",
       "28                 516.0  1251.0  104.250000     12\n",
       "29                 528.0   563.0   46.916667     12\n",
       "...                  ...     ...         ...    ...\n",
       "2203             84442.0   355.0   29.583333     12\n",
       "2204             85394.0   573.0   47.750000     12\n",
       "2205             85397.0    49.0    4.083333     12\n",
       "2206             86068.0  1073.0   89.416667     12\n",
       "2207             87951.0  1038.0   86.500000     12\n",
       "2208             87961.0    33.0    2.750000     12\n",
       "2209             89634.0  1071.0   89.250000     12\n",
       "2210             90490.0    50.0    4.166667     12\n",
       "2211             90797.0   485.0   40.416667     12\n",
       "2212             90809.0  1032.0   86.000000     12\n",
       "2213             91587.0    55.0    4.583333     12\n",
       "2214             93053.0  1034.0   86.166667     12\n",
       "2215             93066.0    37.0    3.083333     12\n",
       "2216             93270.0    43.0    3.583333     12\n",
       "2217             93638.0   548.0   45.666667     12\n",
       "2218             95351.0    65.0    5.416667     12\n",
       "2219            103431.0   505.0   42.083333     12\n",
       "2220            103443.0   548.0   45.666667     12\n",
       "2221            107430.0   598.0   49.833333     12\n",
       "2222            107456.0    64.0    5.333333     12\n",
       "2223            108408.0   515.0   42.916667     12\n",
       "2224            109483.0    48.0    4.000000     12\n",
       "2225            109804.0   554.0   46.166667     12\n",
       "2226            111328.0    54.0    4.500000     12\n",
       "2227            112581.0    78.0    6.500000     12\n",
       "2228            113120.0    51.0    4.250000     12\n",
       "2229            120423.0    40.0    3.333333     12\n",
       "2230            121315.0    43.0    3.583333     12\n",
       "2231            122729.0    55.0    4.583333     12\n",
       "2232            126352.0    67.0    5.583333     12\n",
       "\n",
       "[2233 rows x 4 columns]"
      ]
     },
     "execution_count": 8,
     "metadata": {},
     "output_type": "execute_result"
    }
   ],
   "source": [
    "agg_gpd_suno"
   ]
  },
  {
   "cell_type": "code",
   "execution_count": 17,
   "metadata": {},
   "outputs": [
    {
     "data": {
      "text/plain": [
       "2329.8732510288064"
      ]
     },
     "execution_count": 17,
     "metadata": {},
     "output_type": "execute_result"
    }
   ],
   "source": [
    "flt = (agg_gpd_suno['gdp_per_capita ($)'] > 0) & (agg_gpd_suno['gdp_per_capita ($)'] <= 12000)\n",
    "fltrtd =agg_gpd_suno.loc[flt, ['gdp_per_capita ($)', 'sum']]\n",
    "fltrtd['sum'].mean()"
   ]
  },
  {
   "cell_type": "code",
   "execution_count": 18,
   "metadata": {},
   "outputs": [
    {
     "data": {
      "text/plain": [
       "2665.8120481927713"
      ]
     },
     "execution_count": 18,
     "metadata": {},
     "output_type": "execute_result"
    }
   ],
   "source": [
    "flt = (agg_gpd_suno['gdp_per_capita ($)'] > 12000) & (agg_gpd_suno['gdp_per_capita ($)'] <= 24000)\n",
    "fltrtd =agg_gpd_suno.loc[flt, ['gdp_per_capita ($)', 'sum']]\n",
    "fltrtd['sum'].mean()"
   ]
  },
  {
   "cell_type": "code",
   "execution_count": 19,
   "metadata": {},
   "outputs": [
    {
     "data": {
      "text/plain": [
       "3944.0284697508896"
      ]
     },
     "execution_count": 19,
     "metadata": {},
     "output_type": "execute_result"
    }
   ],
   "source": [
    "flt = (agg_gpd_suno['gdp_per_capita ($)'] > 24000) & (agg_gpd_suno['gdp_per_capita ($)'] <= 36000)\n",
    "fltrtd =agg_gpd_suno.loc[flt, ['gdp_per_capita ($)', 'sum']]\n",
    "fltrtd['sum'].mean()"
   ]
  },
  {
   "cell_type": "code",
   "execution_count": 20,
   "metadata": {},
   "outputs": [
    {
     "data": {
      "text/plain": [
       "7604.0496453900705"
      ]
     },
     "execution_count": 20,
     "metadata": {},
     "output_type": "execute_result"
    }
   ],
   "source": [
    "flt = (agg_gpd_suno['gdp_per_capita ($)'] > 36000) & (agg_gpd_suno['gdp_per_capita ($)'] <= 48000)\n",
    "fltrtd =agg_gpd_suno.loc[flt, ['gdp_per_capita ($)', 'sum']]\n",
    "fltrtd['sum'].mean()"
   ]
  },
  {
   "cell_type": "code",
   "execution_count": 21,
   "metadata": {},
   "outputs": [
    {
     "data": {
      "text/plain": [
       "5242.796116504855"
      ]
     },
     "execution_count": 21,
     "metadata": {},
     "output_type": "execute_result"
    }
   ],
   "source": [
    "flt = (agg_gpd_suno['gdp_per_capita ($)'] > 48000) & (agg_gpd_suno['gdp_per_capita ($)'] <= 60000)\n",
    "fltrtd =agg_gpd_suno.loc[flt, ['gdp_per_capita ($)', 'sum']]\n",
    "fltrtd['sum'].mean()"
   ]
  },
  {
   "cell_type": "code",
   "execution_count": 22,
   "metadata": {},
   "outputs": [
    {
     "data": {
      "text/plain": [
       "2024.5"
      ]
     },
     "execution_count": 22,
     "metadata": {},
     "output_type": "execute_result"
    }
   ],
   "source": [
    "flt = (agg_gpd_suno['gdp_per_capita ($)'] > 60000) & (agg_gpd_suno['gdp_per_capita ($)'] <= 72000)\n",
    "fltrtd =agg_gpd_suno.loc[flt, ['gdp_per_capita ($)', 'sum']]\n",
    "fltrtd['sum'].mean()"
   ]
  },
  {
   "cell_type": "code",
   "execution_count": 23,
   "metadata": {},
   "outputs": [
    {
     "data": {
      "text/plain": [
       "804.7857142857143"
      ]
     },
     "execution_count": 23,
     "metadata": {},
     "output_type": "execute_result"
    }
   ],
   "source": [
    "flt = (agg_gpd_suno['gdp_per_capita ($)'] > 72000) & (agg_gpd_suno['gdp_per_capita ($)'] <= 84000)\n",
    "fltrtd =agg_gpd_suno.loc[flt, ['gdp_per_capita ($)', 'sum']]\n",
    "fltrtd['sum'].mean()"
   ]
  },
  {
   "cell_type": "code",
   "execution_count": 24,
   "metadata": {},
   "outputs": [
    {
     "data": {
      "text/plain": [
       "471.3125"
      ]
     },
     "execution_count": 24,
     "metadata": {},
     "output_type": "execute_result"
    }
   ],
   "source": [
    "flt = (agg_gpd_suno['gdp_per_capita ($)'] > 84000) & (agg_gpd_suno['gdp_per_capita ($)'] <= 96000)\n",
    "fltrtd =agg_gpd_suno.loc[flt, ['gdp_per_capita ($)', 'sum']]\n",
    "fltrtd['sum'].mean()"
   ]
  },
  {
   "cell_type": "code",
   "execution_count": 25,
   "metadata": {},
   "outputs": [
    {
     "data": {
      "text/plain": [
       "428.75"
      ]
     },
     "execution_count": 25,
     "metadata": {},
     "output_type": "execute_result"
    }
   ],
   "source": [
    "flt = (agg_gpd_suno['gdp_per_capita ($)'] > 96000) & (agg_gpd_suno['gdp_per_capita ($)'] <= 108000)\n",
    "fltrtd =agg_gpd_suno.loc[flt, ['gdp_per_capita ($)', 'sum']]\n",
    "fltrtd['sum'].mean()"
   ]
  },
  {
   "cell_type": "code",
   "execution_count": 26,
   "metadata": {},
   "outputs": [
    {
     "data": {
      "text/plain": [
       "216.66666666666666"
      ]
     },
     "execution_count": 26,
     "metadata": {},
     "output_type": "execute_result"
    }
   ],
   "source": [
    "flt = (agg_gpd_suno['gdp_per_capita ($)'] > 108000) & (agg_gpd_suno['gdp_per_capita ($)'] <= 120000)\n",
    "fltrtd =agg_gpd_suno.loc[flt, ['gdp_per_capita ($)', 'sum']]\n",
    "fltrtd['sum'].mean()"
   ]
  },
  {
   "cell_type": "code",
   "execution_count": 27,
   "metadata": {},
   "outputs": [
    {
     "data": {
      "text/plain": [
       "51.25"
      ]
     },
     "execution_count": 27,
     "metadata": {},
     "output_type": "execute_result"
    }
   ],
   "source": [
    "flt = (agg_gpd_suno['gdp_per_capita ($)'] > 120000)\n",
    "fltrtd =agg_gpd_suno.loc[flt, ['gdp_per_capita ($)', 'sum']]\n",
    "fltrtd['sum'].mean()"
   ]
  },
  {
   "cell_type": "code",
   "execution_count": null,
   "metadata": {},
   "outputs": [],
   "source": []
  },
  {
   "cell_type": "code",
   "execution_count": null,
   "metadata": {},
   "outputs": [],
   "source": []
  },
  {
   "cell_type": "code",
   "execution_count": null,
   "metadata": {},
   "outputs": [],
   "source": []
  },
  {
   "cell_type": "code",
   "execution_count": null,
   "metadata": {},
   "outputs": [],
   "source": []
  },
  {
   "cell_type": "code",
   "execution_count": 11,
   "metadata": {},
   "outputs": [
    {
     "data": {
      "text/plain": [
       "126352.0"
      ]
     },
     "execution_count": 11,
     "metadata": {},
     "output_type": "execute_result"
    }
   ],
   "source": [
    "data['gdp_per_capita ($)'].max()"
   ]
  },
  {
   "cell_type": "code",
   "execution_count": 12,
   "metadata": {},
   "outputs": [
    {
     "data": {
      "text/plain": [
       "251.0"
      ]
     },
     "execution_count": 12,
     "metadata": {},
     "output_type": "execute_result"
    }
   ],
   "source": [
    "data['gdp_per_capita ($)'].min()"
   ]
  },
  {
   "cell_type": "code",
   "execution_count": 21,
   "metadata": {},
   "outputs": [
    {
     "data": {
      "text/plain": [
       "Index(['sex', 'country', 'year', 'age', 'generation', 'suicides_no',\n",
       "       'population', 'suicides/100k pop', 'HDI for year', 'gdp_for_year ($) ',\n",
       "       'gdp_per_capita ($)'],\n",
       "      dtype='object')"
      ]
     },
     "execution_count": 21,
     "metadata": {},
     "output_type": "execute_result"
    }
   ],
   "source": [
    "data.columns"
   ]
  }
 ],
 "metadata": {
  "kernelspec": {
   "display_name": "Python 3",
   "language": "python",
   "name": "python3"
  },
  "language_info": {
   "codemirror_mode": {
    "name": "ipython",
    "version": 3
   },
   "file_extension": ".py",
   "mimetype": "text/x-python",
   "name": "python",
   "nbconvert_exporter": "python",
   "pygments_lexer": "ipython3",
   "version": "3.6.5"
  }
 },
 "nbformat": 4,
 "nbformat_minor": 2
}
