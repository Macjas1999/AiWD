{
 "cells": [
  {
   "cell_type": "code",
   "execution_count": 1,
   "metadata": {},
   "outputs": [],
   "source": [
    "import numpy as np\n",
    "import matplotlib.pyplot as plt\n",
    "import pandas as pd"
   ]
  },
  {
   "cell_type": "code",
   "execution_count": 3,
   "metadata": {},
   "outputs": [],
   "source": [
    "data = pd.read_csv('masterCSVfmfull.csv')"
   ]
  },
  {
   "cell_type": "code",
   "execution_count": 4,
   "metadata": {},
   "outputs": [
    {
     "name": "stdout",
     "output_type": "stream",
     "text": [
      "<class 'pandas.core.frame.DataFrame'>\n",
      "RangeIndex: 38784 entries, 0 to 38783\n",
      "Data columns (total 11 columns):\n",
      "sex                   38784 non-null object\n",
      "country               38784 non-null object\n",
      "year                  38784 non-null int64\n",
      "age                   38784 non-null object\n",
      "generation            27820 non-null object\n",
      "suicides_no           27820 non-null float64\n",
      "population            27820 non-null float64\n",
      "suicides/100k pop     27820 non-null float64\n",
      "HDI for year          8364 non-null float64\n",
      "gdp_for_year ($)      27820 non-null float64\n",
      "gdp_per_capita ($)    27820 non-null float64\n",
      "dtypes: float64(6), int64(1), object(4)\n",
      "memory usage: 3.3+ MB\n"
     ]
    }
   ],
   "source": [
    "data.info()"
   ]
  },
  {
   "cell_type": "code",
   "execution_count": 5,
   "metadata": {},
   "outputs": [
    {
     "name": "stdout",
     "output_type": "stream",
     "text": [
      "(38784, 11)\n",
      "Index(['sex', 'country', 'year', 'age', 'generation', 'suicides_no',\n",
      "       'population', 'suicides/100k pop', 'HDI for year', 'gdp_for_year ($) ',\n",
      "       'gdp_per_capita ($)'],\n",
      "      dtype='object')\n",
      "RangeIndex(start=0, stop=38784, step=1)\n"
     ]
    }
   ],
   "source": [
    "print(data.shape)\n",
    "print(data.columns)\n",
    "print(data.index)"
   ]
  },
  {
   "cell_type": "code",
   "execution_count": null,
   "metadata": {},
   "outputs": [],
   "source": [
    "data.describe()"
   ]
  }
 ],
 "metadata": {
  "kernelspec": {
   "display_name": "Python 3",
   "language": "python",
   "name": "python3"
  },
  "language_info": {
   "codemirror_mode": {
    "name": "ipython",
    "version": 3
   },
   "file_extension": ".py",
   "mimetype": "text/x-python",
   "name": "python",
   "nbconvert_exporter": "python",
   "pygments_lexer": "ipython3",
   "version": "3.6.5"
  }
 },
 "nbformat": 4,
 "nbformat_minor": 2
}
